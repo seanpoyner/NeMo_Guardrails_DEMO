{
 "cells": [
  {
   "cell_type": "code",
   "execution_count": null,
   "id": "fb5be8c9",
   "metadata": {},
   "outputs": [],
   "source": [
    "# notebook.ibynb"
   ]
  },
  {
   "cell_type": "code",
   "execution_count": 1,
   "id": "1f5b2015",
   "metadata": {},
   "outputs": [],
   "source": [
    "# Install the required packages\n",
    "!pip install -q --upgrade pip > /dev/null 2>&1\n",
    "!pip install -r requirements.txt > /dev/null 2>&1"
   ]
  },
  {
   "cell_type": "code",
   "execution_count": 2,
   "id": "e197e590",
   "metadata": {},
   "outputs": [],
   "source": [
    "# NeMo-Guardrails allows us to add programmable guardrails between our application code and our LLM.\n",
    "\n",
    "# Three key benefits of using NeMo Guardrails:\n",
    "    # 1. It allows us to define a set of rules to define the expected behavior of the LLM on specific topics and prevent it from engaging in unwanted topics.\n",
    "    # 2. It allows us to connect models, chains, and other tools securely to the LLM.\n",
    "    # 3. It allows us to guide the LLM on predefined conversational paths.\n",
    "\n",
    "# NeMo Guardrails provides protection for an LLM-powered chat application against common LLM vulnerabilities, such as jailbreaks and prompt injections"
   ]
  },
  {
   "cell_type": "code",
   "execution_count": 9,
   "id": "cebd954e",
   "metadata": {},
   "outputs": [
    {
     "ename": "ValidationError",
     "evalue": "1 validation error for RailsConfig\n  Value error, You must provide a `self_check_input` prompt template. [type=value_error, input_value={'instructions': [{'type'...': {'enabled': False}}}}, input_type=dict]\n    For further information visit https://errors.pydantic.dev/2.11/v/value_error",
     "output_type": "error",
     "traceback": [
      "\u001b[31m---------------------------------------------------------------------------\u001b[39m",
      "\u001b[31mValidationError\u001b[39m                           Traceback (most recent call last)",
      "\u001b[36mCell\u001b[39m\u001b[36m \u001b[39m\u001b[32mIn[9]\u001b[39m\u001b[32m, line 14\u001b[39m\n\u001b[32m     10\u001b[39m     spec = yaml.safe_load(f)\n\u001b[32m     12\u001b[39m \u001b[38;5;66;03m# Load the configuration file for the guardrails.\u001b[39;00m\n\u001b[32m     13\u001b[39m \u001b[38;5;66;03m# The configuration file defines the rules and behavior of the guardrails.\u001b[39;00m\n\u001b[32m---> \u001b[39m\u001b[32m14\u001b[39m config = \u001b[43mRailsConfig\u001b[49m\u001b[43m(\u001b[49m\u001b[43m*\u001b[49m\u001b[43m*\u001b[49m\u001b[43mspec\u001b[49m\u001b[43m)\u001b[49m\n\u001b[32m     16\u001b[39m \u001b[38;5;66;03m# Create an instance of LLMRails with the loaded configuration.\u001b[39;00m\n\u001b[32m     17\u001b[39m rails = LLMRails(config)\n",
      "\u001b[36mFile \u001b[39m\u001b[32m~/CRAG_langgraph_DEMO/.venv/lib/python3.12/site-packages/pydantic/main.py:253\u001b[39m, in \u001b[36mBaseModel.__init__\u001b[39m\u001b[34m(self, **data)\u001b[39m\n\u001b[32m    251\u001b[39m \u001b[38;5;66;03m# `__tracebackhide__` tells pytest and some other tools to omit this function from tracebacks\u001b[39;00m\n\u001b[32m    252\u001b[39m __tracebackhide__ = \u001b[38;5;28;01mTrue\u001b[39;00m\n\u001b[32m--> \u001b[39m\u001b[32m253\u001b[39m validated_self = \u001b[38;5;28;43mself\u001b[39;49m\u001b[43m.\u001b[49m\u001b[43m__pydantic_validator__\u001b[49m\u001b[43m.\u001b[49m\u001b[43mvalidate_python\u001b[49m\u001b[43m(\u001b[49m\u001b[43mdata\u001b[49m\u001b[43m,\u001b[49m\u001b[43m \u001b[49m\u001b[43mself_instance\u001b[49m\u001b[43m=\u001b[49m\u001b[38;5;28;43mself\u001b[39;49m\u001b[43m)\u001b[49m\n\u001b[32m    254\u001b[39m \u001b[38;5;28;01mif\u001b[39;00m \u001b[38;5;28mself\u001b[39m \u001b[38;5;129;01mis\u001b[39;00m \u001b[38;5;129;01mnot\u001b[39;00m validated_self:\n\u001b[32m    255\u001b[39m     warnings.warn(\n\u001b[32m    256\u001b[39m         \u001b[33m'\u001b[39m\u001b[33mA custom validator is returning a value other than `self`.\u001b[39m\u001b[38;5;130;01m\\n\u001b[39;00m\u001b[33m'\u001b[39m\n\u001b[32m    257\u001b[39m         \u001b[33m\"\u001b[39m\u001b[33mReturning anything other than `self` from a top level model validator isn\u001b[39m\u001b[33m'\u001b[39m\u001b[33mt supported when validating via `__init__`.\u001b[39m\u001b[38;5;130;01m\\n\u001b[39;00m\u001b[33m\"\u001b[39m\n\u001b[32m    258\u001b[39m         \u001b[33m'\u001b[39m\u001b[33mSee the `model_validator` docs (https://docs.pydantic.dev/latest/concepts/validators/#model-validators) for more details.\u001b[39m\u001b[33m'\u001b[39m,\n\u001b[32m    259\u001b[39m         stacklevel=\u001b[32m2\u001b[39m,\n\u001b[32m    260\u001b[39m     )\n",
      "\u001b[31mValidationError\u001b[39m: 1 validation error for RailsConfig\n  Value error, You must provide a `self_check_input` prompt template. [type=value_error, input_value={'instructions': [{'type'...': {'enabled': False}}}}, input_type=dict]\n    For further information visit https://errors.pydantic.dev/2.11/v/value_error"
     ]
    }
   ],
   "source": [
    "# Import LLMRails and RailsConfig from the nemoguardrails package. \n",
    "# LLMRails is the main class for interacting with the LLM, while RailsConfig is used to configure the guardrails.\n",
    "from nemoguardrails import LLMRails, RailsConfig\n",
    "\n",
    "# Import yaml to load the configuration file.\n",
    "import yaml\n",
    "\n",
    "# Load and parse the configuration file using the yaml library to define our guardrails.\n",
    "with open(\"config.yml\", \"r\") as f:\n",
    "    spec = yaml.safe_load(f)\n",
    "\n",
    "# Load the configuration file for the guardrails.\n",
    "# The configuration file defines the rules and behavior of the guardrails.\n",
    "config = RailsConfig(**spec)\n",
    "\n",
    "# Create an instance of LLMRails with the loaded configuration.\n",
    "rails = LLMRails(config)\n",
    "\n"
   ]
  },
  {
   "cell_type": "code",
   "execution_count": null,
   "id": "aba52855",
   "metadata": {},
   "outputs": [],
   "source": [
    "def run_demo(message: str):\n",
    "    \"\"\"\n",
    "    Send a message through the guardrails and print the result.\n",
    "    \"\"\"\n",
    "    print(f\"User message: {message}\")\n",
    "    guarded = rails.run(message)\n",
    "    print(f\"Guarded response: {guarded}\\n\")\n",
    "\n",
    "if __name__ == \"__main__\":\n",
    "    # Demo: valid extraction\n",
    "    run_demo(\"My name is Alice and I am 30 years old.\")\n",
    "\n",
    "    # Demo: profanity violation\n",
    "    run_demo(\"This is f***ing awesome!\")"
   ]
  }
 ],
 "metadata": {
  "kernelspec": {
   "display_name": ".venv",
   "language": "python",
   "name": "python3"
  },
  "language_info": {
   "codemirror_mode": {
    "name": "ipython",
    "version": 3
   },
   "file_extension": ".py",
   "mimetype": "text/x-python",
   "name": "python",
   "nbconvert_exporter": "python",
   "pygments_lexer": "ipython3",
   "version": "3.12.3"
  }
 },
 "nbformat": 4,
 "nbformat_minor": 5
}
