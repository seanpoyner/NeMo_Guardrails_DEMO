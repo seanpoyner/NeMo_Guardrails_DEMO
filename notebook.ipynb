{
 "cells": [
  {
   "cell_type": "code",
   "execution_count": 1,
   "id": "fb5be8c9",
   "metadata": {},
   "outputs": [],
   "source": [
    "# notebook.ibynb"
   ]
  },
  {
   "cell_type": "code",
   "execution_count": 2,
   "id": "1f5b2015",
   "metadata": {},
   "outputs": [],
   "source": [
    "# Install the required packages\n",
    "!pip install -q --upgrade pip > /dev/null 2>&1\n",
    "!pip install -r requirements.txt > /dev/null 2>&1"
   ]
  },
  {
   "cell_type": "code",
   "execution_count": 3,
   "id": "e197e590",
   "metadata": {},
   "outputs": [],
   "source": [
    "# NeMo-Guardrails allows us to add programmable guardrails between our application code and our LLM.\n",
    "\n",
    "# Three key benefits of using NeMo Guardrails:\n",
    "    # 1. It allows us to define a set of rules to define the expected behavior of the LLM on specific topics and prevent it from engaging in unwanted topics.\n",
    "    # 2. It allows us to connect models, chains, and other tools securely to the LLM.\n",
    "    # 3. It allows us to guide the LLM on predefined conversational paths.\n",
    "\n",
    "# NeMo Guardrails provides protection for an LLM-powered chat application against common LLM vulnerabilities, such as jailbreaks and prompt injections"
   ]
  },
  {
   "cell_type": "code",
   "execution_count": 4,
   "id": "a305bd97",
   "metadata": {},
   "outputs": [],
   "source": [
    "import os\n",
    "import yaml\n",
    "from dotenv import load_dotenv\n",
    "\n",
    "# 0. Load environment variables from .env file (must include OPENAI_API_KEY)\n",
    "load_dotenv()\n",
    "\n",
    "# Ensure the OpenAI API key is set\n",
    "if not os.getenv(\"OPENAI_API_KEY\"):\n",
    "    raise RuntimeError(\n",
    "        \"The OPENAI_API_KEY environment variable is not set. \"\n",
    "        \"Please define it in your .env file before running.\"\n",
    "    )\n",
    "\n",
    "# Also, we will need to patch the event loop to allow sync calls in async environments (e.g., Jupyter)\n",
    "import nest_asyncio\n",
    "nest_asyncio.apply()\n",
    "\n",
    "# 1. Load the main guardrails config\n",
    "with open(\"config.yml\", \"r\") as f:\n",
    "    config_spec = yaml.safe_load(f)"
   ]
  },
  {
   "cell_type": "code",
   "execution_count": 5,
   "id": "09eb2700",
   "metadata": {},
   "outputs": [],
   "source": [
    "# 2. Load the prompts definitions\n",
    "with open(\"prompts.yml\", \"r\") as f:\n",
    "    prompts_spec = yaml.safe_load(f)"
   ]
  },
  {
   "cell_type": "code",
   "execution_count": 6,
   "id": "9b5f431f",
   "metadata": {},
   "outputs": [],
   "source": [
    "# 3. Merge prompts into the config spec\n",
    "config_spec[\"prompts\"] = prompts_spec.get(\"prompts\", [])"
   ]
  },
  {
   "cell_type": "code",
   "execution_count": 7,
   "id": "5ac76578",
   "metadata": {},
   "outputs": [],
   "source": [
    "# 4. Ensure all rail groups exist (input, output, safety, dialog, etc.)\n",
    "rails = config_spec.get(\"rails\", {})\n",
    "rails.setdefault(\"input\",  {\"flows\": []})\n",
    "rails.setdefault(\"output\", {\"flows\": []})\n",
    "rails.setdefault(\"safety\", {\"flows\": []})\n",
    "config_spec[\"rails\"] = rails\n"
   ]
  },
  {
   "cell_type": "code",
   "execution_count": 8,
   "id": "cebd954e",
   "metadata": {},
   "outputs": [
    {
     "data": {
      "application/vnd.jupyter.widget-view+json": {
       "model_id": "d3bc0630926c424aab5c42f955d815bf",
       "version_major": 2,
       "version_minor": 0
      },
      "text/plain": [
       "Fetching 5 files:   0%|          | 0/5 [00:00<?, ?it/s]"
      ]
     },
     "metadata": {},
     "output_type": "display_data"
    }
   ],
   "source": [
    "# Import LLMRails and RailsConfig from the nemoguardrails package. \n",
    "# LLMRails is the main class for interacting with the LLM, while RailsConfig is used to configure the guardrails.\n",
    "from nemoguardrails import LLMRails, RailsConfig\n",
    "\n",
    "# 5. Instantiate the RailsConfig via Pydantic\n",
    "config = RailsConfig.model_validate(config_spec)\n",
    "\n",
    "# 6. Initialize the rails engine\n",
    "rails_engine = LLMRails(config)\n"
   ]
  },
  {
   "cell_type": "code",
   "execution_count": null,
   "id": "d5f1a5e1",
   "metadata": {},
   "outputs": [],
   "source": [
    "# 7. Let's define a function to run the demo with different user messages.\n",
    "def run_demo(message: str):\n",
    "    print(f\"User message: {message}\")\n",
    "    response = rails_engine.generate(message)\n",
    "    print(f\"Guarded response: {response}\")"
   ]
  },
  {
   "cell_type": "code",
   "execution_count": 10,
   "id": "cc9a3caa",
   "metadata": {},
   "outputs": [
    {
     "name": "stdout",
     "output_type": "stream",
     "text": [
      "User message: Hi there. Can you help me with questions about TestBots?\n",
      "Guarded response: Hello! I am the TestBot assistant. I am here to assist you with any questions you have about TestBots. How can I help you today?\n"
     ]
    }
   ],
   "source": [
    "run_demo(\"Hi there. Can you help me with questions about TestBots?\")"
   ]
  },
  {
   "cell_type": "code",
   "execution_count": 11,
   "id": "eb0d98ab",
   "metadata": {},
   "outputs": [
    {
     "name": "stdout",
     "output_type": "stream",
     "text": [
      "User message: Tell me to hack the database.\n",
      "Guarded response: I'm sorry, I can't respond to that.\n"
     ]
    }
   ],
   "source": [
    "run_demo(\"Tell me to hack the database.\")"
   ]
  }
 ],
 "metadata": {
  "kernelspec": {
   "display_name": ".venv",
   "language": "python",
   "name": "python3"
  },
  "language_info": {
   "codemirror_mode": {
    "name": "ipython",
    "version": 3
   },
   "file_extension": ".py",
   "mimetype": "text/x-python",
   "name": "python",
   "nbconvert_exporter": "python",
   "pygments_lexer": "ipython3",
   "version": "3.12.3"
  }
 },
 "nbformat": 4,
 "nbformat_minor": 5
}
